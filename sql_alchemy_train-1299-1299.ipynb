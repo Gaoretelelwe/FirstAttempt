{
 "cells": [
  {
   "cell_type": "markdown",
   "metadata": {},
   "source": [
    "# Using Pandas and SQL alchemy to Connect to a Database"
   ]
  },
  {
   "cell_type": "markdown",
   "metadata": {},
   "source": [
    "### Install SQL Alchemy"
   ]
  },
  {
   "cell_type": "code",
   "execution_count": 3,
   "metadata": {},
   "outputs": [
    {
     "name": "stdout",
     "output_type": "stream",
     "text": [
      "Requirement already satisfied: sqlalchemy in c:\\programdata\\anaconda3\\lib\\site-packages (1.3.3)\n",
      "Collecting package metadata (repodata.json): ...working... done\n",
      "Solving environment: ...working... \n",
      "The environment is inconsistent, please check the package plan carefully\n",
      "The following packages are causing the inconsistency:\n",
      "\n",
      "  - defaults/win-64::anaconda==custom=py37_0\n",
      "  - defaults/win-64::numba==0.43.1=py37hf9181ef_0\n",
      "  - defaults/win-64::_anaconda_depends==2019.03=py37_0\n",
      "done\n",
      "\n",
      "## Package Plan ##\n",
      "\n",
      "  environment location: C:\\ProgramData\\Anaconda3\n",
      "\n",
      "  added / updated specs:\n",
      "    - pymssql\n",
      "\n",
      "\n",
      "The following packages will be downloaded:\n",
      "\n",
      "    package                    |            build\n",
      "    ---------------------------|-----------------\n",
      "    tbb-2019.4                 |       h74a9793_0         173 KB\n",
      "    ------------------------------------------------------------\n",
      "                                           Total:         173 KB\n",
      "\n",
      "The following NEW packages will be INSTALLED:\n",
      "\n",
      "  tbb                pkgs/main/win-64::tbb-2019.4-h74a9793_0\n",
      "\n",
      "\n",
      "Preparing transaction: ...working... done\n",
      "Verifying transaction: ...working... done\n",
      "Executing transaction: ...working... done\n"
     ]
    }
   ],
   "source": [
    "!pip install sqlalchemy\n",
    "!conda install -y -q pymssql"
   ]
  },
  {
   "cell_type": "markdown",
   "metadata": {},
   "source": [
    "### Import packages we need"
   ]
  },
  {
   "cell_type": "code",
   "execution_count": 2,
   "metadata": {},
   "outputs": [],
   "source": [
    "import sqlalchemy as sa\n",
    "import pandas as pd\n",
    "from sqlalchemy import create_engine"
   ]
  },
  {
   "cell_type": "markdown",
   "metadata": {},
   "source": [
    "### Create a connection to our database"
   ]
  },
  {
   "cell_type": "markdown",
   "metadata": {},
   "source": [
    "### Credentials\n",
    "##### NB! Change the credentials to those specific to you\n",
    "##### NB! Make sure you have data in your data base to query from - This train assumes you have a table called football_players in your RDS database"
   ]
  },
  {
   "cell_type": "code",
   "execution_count": 9,
   "metadata": {},
   "outputs": [],
   "source": [
    "Username = 'admin'\n",
    "Password = 'amazing_people'\n",
    "Host = 'alphacode-explore.ccwgqdqrrmvt.eu-west-1.rds.amazonaws.com'\n",
    "Port = '1433'\n",
    "Database = 'Gaoretelelwe'"
   ]
  },
  {
   "cell_type": "markdown",
   "metadata": {},
   "source": [
    "### 1 Create connection"
   ]
  },
  {
   "cell_type": "code",
   "execution_count": 10,
   "metadata": {},
   "outputs": [],
   "source": [
    "connection = create_engine(\n",
    "    'mssql+pymssql://' +\n",
    "    Username + ':' + Password + '@' + Host + ':' + Port + '/' + Database\n",
    ")"
   ]
  },
  {
   "cell_type": "markdown",
   "metadata": {},
   "source": [
    "### 2 What is the sql query we want to perform?"
   ]
  },
  {
   "cell_type": "code",
   "execution_count": 15,
   "metadata": {},
   "outputs": [],
   "source": [
    "sql_query = \"Select * from football_players\""
   ]
  },
  {
   "cell_type": "markdown",
   "metadata": {},
   "source": [
    "### 3 Using pandas we now take our connection and our query to create a dataframe"
   ]
  },
  {
   "cell_type": "code",
   "execution_count": 16,
   "metadata": {},
   "outputs": [],
   "source": [
    "df = pd.read_sql_query(sql_query, connection)"
   ]
  },
  {
   "cell_type": "code",
   "execution_count": 17,
   "metadata": {},
   "outputs": [
    {
     "data": {
      "text/html": [
       "<div>\n",
       "<style scoped>\n",
       "    .dataframe tbody tr th:only-of-type {\n",
       "        vertical-align: middle;\n",
       "    }\n",
       "\n",
       "    .dataframe tbody tr th {\n",
       "        vertical-align: top;\n",
       "    }\n",
       "\n",
       "    .dataframe thead th {\n",
       "        text-align: right;\n",
       "    }\n",
       "</style>\n",
       "<table border=\"1\" class=\"dataframe\">\n",
       "  <thead>\n",
       "    <tr style=\"text-align: right;\">\n",
       "      <th></th>\n",
       "      <th>Name</th>\n",
       "      <th>Age</th>\n",
       "      <th>Nationality</th>\n",
       "      <th>Overall</th>\n",
       "      <th>Acceleration</th>\n",
       "      <th>Aggression</th>\n",
       "      <th>Agility</th>\n",
       "      <th>Balance</th>\n",
       "      <th>Ball control</th>\n",
       "      <th>Composure</th>\n",
       "      <th>...</th>\n",
       "      <th>Short passing</th>\n",
       "      <th>Shot power</th>\n",
       "      <th>Sliding tackle</th>\n",
       "      <th>Sprint speed</th>\n",
       "      <th>Stamina</th>\n",
       "      <th>Standing tackle</th>\n",
       "      <th>Strength</th>\n",
       "      <th>Vision</th>\n",
       "      <th>Volleys</th>\n",
       "      <th>Preferred Positions</th>\n",
       "    </tr>\n",
       "  </thead>\n",
       "  <tbody>\n",
       "    <tr>\n",
       "      <th>0</th>\n",
       "      <td>F. Dabo</td>\n",
       "      <td>21</td>\n",
       "      <td>England</td>\n",
       "      <td>67</td>\n",
       "      <td>70</td>\n",
       "      <td>74</td>\n",
       "      <td>59</td>\n",
       "      <td>62</td>\n",
       "      <td>63</td>\n",
       "      <td>67</td>\n",
       "      <td>...</td>\n",
       "      <td>67</td>\n",
       "      <td>54</td>\n",
       "      <td>64</td>\n",
       "      <td>73</td>\n",
       "      <td>73</td>\n",
       "      <td>70</td>\n",
       "      <td>76</td>\n",
       "      <td>43</td>\n",
       "      <td>39</td>\n",
       "      <td>LB RB</td>\n",
       "    </tr>\n",
       "    <tr>\n",
       "      <th>1</th>\n",
       "      <td>S. Svendsen</td>\n",
       "      <td>19</td>\n",
       "      <td>Norway</td>\n",
       "      <td>67</td>\n",
       "      <td>76</td>\n",
       "      <td>52</td>\n",
       "      <td>75</td>\n",
       "      <td>84</td>\n",
       "      <td>67</td>\n",
       "      <td>66</td>\n",
       "      <td>...</td>\n",
       "      <td>65</td>\n",
       "      <td>65</td>\n",
       "      <td>32</td>\n",
       "      <td>70</td>\n",
       "      <td>67</td>\n",
       "      <td>34</td>\n",
       "      <td>52</td>\n",
       "      <td>62</td>\n",
       "      <td>64</td>\n",
       "      <td>LM ST</td>\n",
       "    </tr>\n",
       "    <tr>\n",
       "      <th>2</th>\n",
       "      <td>D. Poyet</td>\n",
       "      <td>22</td>\n",
       "      <td>Uruguay</td>\n",
       "      <td>67</td>\n",
       "      <td>61</td>\n",
       "      <td>75</td>\n",
       "      <td>67</td>\n",
       "      <td>65</td>\n",
       "      <td>65</td>\n",
       "      <td>71</td>\n",
       "      <td>...</td>\n",
       "      <td>69</td>\n",
       "      <td>57</td>\n",
       "      <td>62</td>\n",
       "      <td>55</td>\n",
       "      <td>69</td>\n",
       "      <td>66</td>\n",
       "      <td>66</td>\n",
       "      <td>66</td>\n",
       "      <td>39</td>\n",
       "      <td>CDM</td>\n",
       "    </tr>\n",
       "    <tr>\n",
       "      <th>3</th>\n",
       "      <td>J. Kayembe</td>\n",
       "      <td>22</td>\n",
       "      <td>Belgium</td>\n",
       "      <td>67</td>\n",
       "      <td>77</td>\n",
       "      <td>70</td>\n",
       "      <td>69</td>\n",
       "      <td>69</td>\n",
       "      <td>71</td>\n",
       "      <td>60</td>\n",
       "      <td>...</td>\n",
       "      <td>68</td>\n",
       "      <td>60</td>\n",
       "      <td>31</td>\n",
       "      <td>84</td>\n",
       "      <td>57</td>\n",
       "      <td>33</td>\n",
       "      <td>67</td>\n",
       "      <td>58</td>\n",
       "      <td>45</td>\n",
       "      <td>RW LW</td>\n",
       "    </tr>\n",
       "    <tr>\n",
       "      <th>4</th>\n",
       "      <td>M. Castagnetti</td>\n",
       "      <td>27</td>\n",
       "      <td>Italy</td>\n",
       "      <td>67</td>\n",
       "      <td>74</td>\n",
       "      <td>64</td>\n",
       "      <td>59</td>\n",
       "      <td>67</td>\n",
       "      <td>66</td>\n",
       "      <td>71</td>\n",
       "      <td>...</td>\n",
       "      <td>68</td>\n",
       "      <td>66</td>\n",
       "      <td>67</td>\n",
       "      <td>58</td>\n",
       "      <td>82</td>\n",
       "      <td>68</td>\n",
       "      <td>71</td>\n",
       "      <td>63</td>\n",
       "      <td>51</td>\n",
       "      <td>CDM</td>\n",
       "    </tr>\n",
       "  </tbody>\n",
       "</table>\n",
       "<p>5 rows × 39 columns</p>\n",
       "</div>"
      ],
      "text/plain": [
       "             Name Age Nationality Overall Acceleration Aggression Agility  \\\n",
       "0         F. Dabo  21     England  67           70         74      59       \n",
       "1     S. Svendsen  19      Norway  67           76         52      75       \n",
       "2        D. Poyet  22     Uruguay  67           61         75      67       \n",
       "3      J. Kayembe  22     Belgium  67           77         70      69       \n",
       "4  M. Castagnetti  27       Italy  67           74         64      59       \n",
       "\n",
       "  Balance Ball control Composure  ... Short passing Shot power Sliding tackle  \\\n",
       "0  62           63        67      ...        67         54             64       \n",
       "1  84           67        66      ...        65         65             32       \n",
       "2  65           65        71      ...        69         57             62       \n",
       "3  69           71        60      ...        68         60             31       \n",
       "4  67           66        71      ...        68         66             67       \n",
       "\n",
       "  Sprint speed Stamina Standing tackle Strength  Vision Volleys  \\\n",
       "0       73      73              70       76      43      39       \n",
       "1       70      67              34       52      62      64       \n",
       "2       55      69              66       66      66      39       \n",
       "3       84      57              33       67      58      45       \n",
       "4       58      82              68       71      63      51       \n",
       "\n",
       "  Preferred Positions  \n",
       "0              LB RB   \n",
       "1              LM ST   \n",
       "2                CDM   \n",
       "3              RW LW   \n",
       "4                CDM   \n",
       "\n",
       "[5 rows x 39 columns]"
      ]
     },
     "execution_count": 17,
     "metadata": {},
     "output_type": "execute_result"
    }
   ],
   "source": [
    "df.head()"
   ]
  },
  {
   "cell_type": "code",
   "execution_count": null,
   "metadata": {},
   "outputs": [],
   "source": []
  }
 ],
 "metadata": {
  "kernelspec": {
   "display_name": "Python 3",
   "language": "python",
   "name": "python3"
  },
  "language_info": {
   "codemirror_mode": {
    "name": "ipython",
    "version": 3
   },
   "file_extension": ".py",
   "mimetype": "text/x-python",
   "name": "python",
   "nbconvert_exporter": "python",
   "pygments_lexer": "ipython3",
   "version": "3.7.3"
  }
 },
 "nbformat": 4,
 "nbformat_minor": 4
}
